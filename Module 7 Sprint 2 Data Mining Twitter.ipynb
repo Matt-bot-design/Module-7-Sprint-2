{
 "cells": [
  {
   "cell_type": "code",
   "execution_count": 1,
   "metadata": {},
   "outputs": [
    {
     "data": {
      "text/html": [
       "        <script type=\"text/javascript\">\n",
       "        window.PlotlyConfig = {MathJaxConfig: 'local'};\n",
       "        if (window.MathJax) {MathJax.Hub.Config({SVG: {font: \"STIX-Web\"}});}\n",
       "        if (typeof require !== 'undefined') {\n",
       "        require.undef(\"plotly\");\n",
       "        requirejs.config({\n",
       "            paths: {\n",
       "                'plotly': ['https://cdn.plot.ly/plotly-latest.min']\n",
       "            }\n",
       "        });\n",
       "        require(['plotly'], function(Plotly) {\n",
       "            window._Plotly = Plotly;\n",
       "        });\n",
       "        }\n",
       "        </script>\n",
       "        "
      ]
     },
     "metadata": {},
     "output_type": "display_data"
    }
   ],
   "source": [
    "import chart_studio\n",
    "import chart_studio.plotly as py\n",
    "import plotly.graph_objs as go\n",
    "#Offline mode\n",
    "from plotly.offline import init_notebook_mode, iplot\n",
    "init_notebook_mode(connected=True)\n",
    "chart_studio.tools.set_credentials_file(username='matth3w_D',api_key='hcLqTdvME7jzgmc6950A')"
   ]
  },
  {
   "cell_type": "code",
   "execution_count": 9,
   "metadata": {},
   "outputs": [],
   "source": [
    "import tweepy\n",
    "from tweepy import OAuthHandler\n",
    "from textblob import TextBlob\n",
    "#from wordcloud import WordCloud\n",
    "import numpy as np\n",
    "import pandas as pd\n",
    "import re\n",
    "import chart_studio\n",
    "import chart_studio.plotly as py\n",
    "import plotly.graph_objs as go\n",
    "import matplotlib.pyplot as plt\n",
    "consumer_key = 'hLZaKzupS4csfHk2VrMd5ZHVt'\n",
    "consumer_secret = 'FYMOASDOkSo9VSTDptlbHLRm2lNdbInrKneOdCj05LWV8nOW1p'\n",
    "access_token = '1291617614851190794-o7NI5Zq26v4eqb9VTo561u67457w5q'\n",
    "access_secret = 'M18KJPtIJg98aJi25AGfcesJtVeY7xuhIX8XuPgILhW7S'\n",
    "\n",
    "auth = OAuthHandler(consumer_key, consumer_secret)\n",
    "auth.set_access_token(access_token, access_secret)\n",
    "\n",
    "api = tweepy.API(auth)"
   ]
  },
  {
   "cell_type": "code",
   "execution_count": 10,
   "metadata": {},
   "outputs": [
    {
     "name": "stdout",
     "output_type": "stream",
     "text": [
      "show the 5 recent tweets: \n",
      "\n",
      "@_DivyanshTiwari https://t.co/0pfoZvOy7Z\n",
      "\n",
      "@prateekjha The student wins a prize for most unfortunate typo.\n",
      "\n",
      "@dzsol @ramalhoorg @raymondh @ILevkivskyi @mariatta It's for typing only. The types module has really nothing to do with the typing module. (Agreed the names are confusingly close; it's too late to do anything about that now.)\n",
      "\n",
      "My UNIX fu is waning. When playing around with the cherry-picker tool I naively typed `alias cp=cherry-picker`. Days later I got a mysterious error when trying to copy a directory. :-)\n",
      "\n",
      "@emmayeboah_ @JackieKazil Less likely to stop functioning than a phone.\n",
      "\n"
     ]
    }
   ],
   "source": [
    "posts = api.user_timeline(screen_name='gvanrossum', count=10,lang=\"en\",tweet_mode='extended')\n",
    "\n",
    "print(\"show the 5 recent tweets: \\n\")\n",
    "for tweet in posts[0:5]:\n",
    "    print(tweet.full_text + '\\n')\n",
    "    "
   ]
  },
  {
   "cell_type": "code",
   "execution_count": 11,
   "metadata": {},
   "outputs": [
    {
     "data": {
      "text/html": [
       "<div>\n",
       "<style scoped>\n",
       "    .dataframe tbody tr th:only-of-type {\n",
       "        vertical-align: middle;\n",
       "    }\n",
       "\n",
       "    .dataframe tbody tr th {\n",
       "        vertical-align: top;\n",
       "    }\n",
       "\n",
       "    .dataframe thead th {\n",
       "        text-align: right;\n",
       "    }\n",
       "</style>\n",
       "<table border=\"1\" class=\"dataframe\">\n",
       "  <thead>\n",
       "    <tr style=\"text-align: right;\">\n",
       "      <th></th>\n",
       "      <th>Tweets</th>\n",
       "    </tr>\n",
       "  </thead>\n",
       "  <tbody>\n",
       "    <tr>\n",
       "      <th>0</th>\n",
       "      <td>@_DivyanshTiwari https://t.co/0pfoZvOy7Z</td>\n",
       "    </tr>\n",
       "    <tr>\n",
       "      <th>1</th>\n",
       "      <td>@prateekjha The student wins a prize for most ...</td>\n",
       "    </tr>\n",
       "    <tr>\n",
       "      <th>2</th>\n",
       "      <td>@dzsol @ramalhoorg @raymondh @ILevkivskyi @mar...</td>\n",
       "    </tr>\n",
       "    <tr>\n",
       "      <th>3</th>\n",
       "      <td>My UNIX fu is waning. When playing around with...</td>\n",
       "    </tr>\n",
       "    <tr>\n",
       "      <th>4</th>\n",
       "      <td>@emmayeboah_ @JackieKazil Less likely to stop ...</td>\n",
       "    </tr>\n",
       "  </tbody>\n",
       "</table>\n",
       "</div>"
      ],
      "text/plain": [
       "                                              Tweets\n",
       "0           @_DivyanshTiwari https://t.co/0pfoZvOy7Z\n",
       "1  @prateekjha The student wins a prize for most ...\n",
       "2  @dzsol @ramalhoorg @raymondh @ILevkivskyi @mar...\n",
       "3  My UNIX fu is waning. When playing around with...\n",
       "4  @emmayeboah_ @JackieKazil Less likely to stop ..."
      ]
     },
     "execution_count": 11,
     "metadata": {},
     "output_type": "execute_result"
    }
   ],
   "source": [
    "df = pd.DataFrame([tweet.full_text for tweet in posts], columns=['Tweets'])\n",
    "df.head()"
   ]
  },
  {
   "cell_type": "code",
   "execution_count": 12,
   "metadata": {},
   "outputs": [
    {
     "data": {
      "text/html": [
       "<div>\n",
       "<style scoped>\n",
       "    .dataframe tbody tr th:only-of-type {\n",
       "        vertical-align: middle;\n",
       "    }\n",
       "\n",
       "    .dataframe tbody tr th {\n",
       "        vertical-align: top;\n",
       "    }\n",
       "\n",
       "    .dataframe thead th {\n",
       "        text-align: right;\n",
       "    }\n",
       "</style>\n",
       "<table border=\"1\" class=\"dataframe\">\n",
       "  <thead>\n",
       "    <tr style=\"text-align: right;\">\n",
       "      <th></th>\n",
       "      <th>Tweets</th>\n",
       "    </tr>\n",
       "  </thead>\n",
       "  <tbody>\n",
       "    <tr>\n",
       "      <th>0</th>\n",
       "      <td>@_DivyanshTiwari https://t.co/0pfoZvOy7Z</td>\n",
       "    </tr>\n",
       "    <tr>\n",
       "      <th>1</th>\n",
       "      <td>The student wins a prize for most unfortunate...</td>\n",
       "    </tr>\n",
       "    <tr>\n",
       "      <th>2</th>\n",
       "      <td>It's for typing only. The types module ha...</td>\n",
       "    </tr>\n",
       "    <tr>\n",
       "      <th>3</th>\n",
       "      <td>My UNIX fu is waning. When playing around with...</td>\n",
       "    </tr>\n",
       "    <tr>\n",
       "      <th>4</th>\n",
       "      <td>_  Less likely to stop functioning than a phone.</td>\n",
       "    </tr>\n",
       "    <tr>\n",
       "      <th>5</th>\n",
       "      <td>A credit card?</td>\n",
       "    </tr>\n",
       "    <tr>\n",
       "      <th>6</th>\n",
       "      <td>Start by figuring out where they live using `...</td>\n",
       "    </tr>\n",
       "    <tr>\n",
       "      <th>7</th>\n",
       "      <td>:   Thanks  for maintaining autodoc and its ty...</td>\n",
       "    </tr>\n",
       "    <tr>\n",
       "      <th>8</th>\n",
       "      <td>This is the weirdest news of the week. https:/...</td>\n",
       "    </tr>\n",
       "    <tr>\n",
       "      <th>9</th>\n",
       "      <td>: And when you hit a ResolutionImpossible erro...</td>\n",
       "    </tr>\n",
       "  </tbody>\n",
       "</table>\n",
       "</div>"
      ],
      "text/plain": [
       "                                              Tweets\n",
       "0           @_DivyanshTiwari https://t.co/0pfoZvOy7Z\n",
       "1   The student wins a prize for most unfortunate...\n",
       "2       It's for typing only. The types module ha...\n",
       "3  My UNIX fu is waning. When playing around with...\n",
       "4   _  Less likely to stop functioning than a phone.\n",
       "5                                     A credit card?\n",
       "6   Start by figuring out where they live using `...\n",
       "7  :   Thanks  for maintaining autodoc and its ty...\n",
       "8  This is the weirdest news of the week. https:/...\n",
       "9  : And when you hit a ResolutionImpossible erro..."
      ]
     },
     "execution_count": 12,
     "metadata": {},
     "output_type": "execute_result"
    }
   ],
   "source": [
    "def cleanTxt(text):\n",
    "    text = re.sub(r'@[A-Za-z0-9]+','',text)\n",
    "    text = re.sub(r'#','',text)\n",
    "    text = re.sub(r'RT[\\s]+','',text)\n",
    "    text = re.sub(r'https?:\\/\\/S+', '', text)\n",
    "    \n",
    "    return text\n",
    "\n",
    "df['Tweets'] = df['Tweets'].apply(cleanTxt)\n",
    "\n",
    "df"
   ]
  },
  {
   "cell_type": "code",
   "execution_count": 13,
   "metadata": {},
   "outputs": [
    {
     "data": {
      "text/html": [
       "<div>\n",
       "<style scoped>\n",
       "    .dataframe tbody tr th:only-of-type {\n",
       "        vertical-align: middle;\n",
       "    }\n",
       "\n",
       "    .dataframe tbody tr th {\n",
       "        vertical-align: top;\n",
       "    }\n",
       "\n",
       "    .dataframe thead th {\n",
       "        text-align: right;\n",
       "    }\n",
       "</style>\n",
       "<table border=\"1\" class=\"dataframe\">\n",
       "  <thead>\n",
       "    <tr style=\"text-align: right;\">\n",
       "      <th></th>\n",
       "      <th>Tweets</th>\n",
       "      <th>Subjectivity</th>\n",
       "      <th>Polarity</th>\n",
       "    </tr>\n",
       "  </thead>\n",
       "  <tbody>\n",
       "    <tr>\n",
       "      <th>0</th>\n",
       "      <td>@_DivyanshTiwari https://t.co/0pfoZvOy7Z</td>\n",
       "      <td>0.000000</td>\n",
       "      <td>0.000000</td>\n",
       "    </tr>\n",
       "    <tr>\n",
       "      <th>1</th>\n",
       "      <td>The student wins a prize for most unfortunate...</td>\n",
       "      <td>0.566667</td>\n",
       "      <td>0.100000</td>\n",
       "    </tr>\n",
       "    <tr>\n",
       "      <th>2</th>\n",
       "      <td>It's for typing only. The types module ha...</td>\n",
       "      <td>0.550000</td>\n",
       "      <td>-0.100000</td>\n",
       "    </tr>\n",
       "    <tr>\n",
       "      <th>3</th>\n",
       "      <td>My UNIX fu is waning. When playing around with...</td>\n",
       "      <td>0.750000</td>\n",
       "      <td>0.050000</td>\n",
       "    </tr>\n",
       "    <tr>\n",
       "      <th>4</th>\n",
       "      <td>_  Less likely to stop functioning than a phone.</td>\n",
       "      <td>0.533333</td>\n",
       "      <td>-0.083333</td>\n",
       "    </tr>\n",
       "    <tr>\n",
       "      <th>5</th>\n",
       "      <td>A credit card?</td>\n",
       "      <td>0.000000</td>\n",
       "      <td>0.000000</td>\n",
       "    </tr>\n",
       "    <tr>\n",
       "      <th>6</th>\n",
       "      <td>Start by figuring out where they live using `...</td>\n",
       "      <td>0.750000</td>\n",
       "      <td>-0.181818</td>\n",
       "    </tr>\n",
       "    <tr>\n",
       "      <th>7</th>\n",
       "      <td>:   Thanks  for maintaining autodoc and its ty...</td>\n",
       "      <td>0.200000</td>\n",
       "      <td>0.250000</td>\n",
       "    </tr>\n",
       "    <tr>\n",
       "      <th>8</th>\n",
       "      <td>This is the weirdest news of the week. https:/...</td>\n",
       "      <td>0.000000</td>\n",
       "      <td>0.000000</td>\n",
       "    </tr>\n",
       "    <tr>\n",
       "      <th>9</th>\n",
       "      <td>: And when you hit a ResolutionImpossible erro...</td>\n",
       "      <td>0.500000</td>\n",
       "      <td>0.500000</td>\n",
       "    </tr>\n",
       "  </tbody>\n",
       "</table>\n",
       "</div>"
      ],
      "text/plain": [
       "                                              Tweets  Subjectivity  Polarity\n",
       "0           @_DivyanshTiwari https://t.co/0pfoZvOy7Z      0.000000  0.000000\n",
       "1   The student wins a prize for most unfortunate...      0.566667  0.100000\n",
       "2       It's for typing only. The types module ha...      0.550000 -0.100000\n",
       "3  My UNIX fu is waning. When playing around with...      0.750000  0.050000\n",
       "4   _  Less likely to stop functioning than a phone.      0.533333 -0.083333\n",
       "5                                     A credit card?      0.000000  0.000000\n",
       "6   Start by figuring out where they live using `...      0.750000 -0.181818\n",
       "7  :   Thanks  for maintaining autodoc and its ty...      0.200000  0.250000\n",
       "8  This is the weirdest news of the week. https:/...      0.000000  0.000000\n",
       "9  : And when you hit a ResolutionImpossible erro...      0.500000  0.500000"
      ]
     },
     "execution_count": 13,
     "metadata": {},
     "output_type": "execute_result"
    }
   ],
   "source": [
    "def getSubjectivity(text):\n",
    "    return TextBlob(text).sentiment.subjectivity\n",
    "\n",
    "def getPolarity(text):\n",
    "    return TextBlob(text).sentiment.polarity\n",
    "df['Subjectivity'] = df['Tweets'].apply(getSubjectivity)\n",
    "df['Polarity'] = df['Tweets'].apply(getPolarity)\n",
    "\n",
    "df\n"
   ]
  },
  {
   "cell_type": "code",
   "execution_count": 14,
   "metadata": {},
   "outputs": [
    {
     "data": {
      "image/png": "[encoded data removed]",
      "text/plain": [
       "<Figure size 576x432 with 1 Axes>"
      ]
     },
     "metadata": {
      "needs_background": "light"
     },
     "output_type": "display_data"
    }
   ],
   "source": [
    "plt.figure(figsize=(8,6))\n",
    "for i in range(0, df.shape[0]):\n",
    "    plt.scatter(df['Polarity'][i], df['Subjectivity'][i], color='Blue')\n",
    "    \n",
    "plt.title('Sentiment Analysis')\n",
    "plt.xlabel('Polarity')\n",
    "plt.ylabel('Subjectivity')\n",
    "plt.show()"
   ]
  },
  {
   "cell_type": "code",
   "execution_count": 15,
   "metadata": {},
   "outputs": [
    {
     "data": {
      "text/html": [
       "\n",
       "        <iframe\n",
       "            width=\"100%\"\n",
       "            height=\"525px\"\n",
       "            src=\"https://plotly.com/~matth3w_D/18.embed\"\n",
       "            frameborder=\"0\"\n",
       "            allowfullscreen\n",
       "        ></iframe>\n",
       "        "
      ],
      "text/plain": [
       "<IPython.lib.display.IFrame at 0xf83db70>"
      ]
     },
     "execution_count": 15,
     "metadata": {},
     "output_type": "execute_result"
    }
   ],
   "source": [
    "#For the most basic graph, all we need is the x and y values:\n",
    "twitter_data = go.Scatter(x=df.values, y=df.index)\n",
    "\n",
    "#Then, we create a layout using the default settings along with some titles:\n",
    "layout = go.Layout(title='Plot', xaxis=dict(title='Date'), yaxis=dict(title='kwh'))\n",
    "\n",
    "#Finally, we can create our figure and display it interactively in the notebook:\n",
    "fig = go.Figure(data=[twitter_data], layout=layout)\n",
    "py.iplot(fig, sharing='public')"
   ]
  },
  {
   "cell_type": "code",
   "execution_count": null,
   "metadata": {},
   "outputs": [],
   "source": []
  }
 ],
 "metadata": {
  "kernelspec": {
   "display_name": "Python 3",
   "language": "python",
   "name": "python3"
  },
  "language_info": {
   "codemirror_mode": {
    "name": "ipython",
    "version": 3
   },
   "file_extension": ".py",
   "mimetype": "text/x-python",
   "name": "python",
   "nbconvert_exporter": "python",
   "pygments_lexer": "ipython3",
   "version": "3.7.6"
  }
 },
 "nbformat": 4,
 "nbformat_minor": 4
}
